{
 "cells": [
  {
   "cell_type": "markdown",
   "metadata": {},
   "source": [
    "# Data Analysis with Python\n",
    "\n",
    "### Case - Customer Cancellation\n",
    "\n",
    "You have been hired by a company with over 800,000 customers for a Data project. Recently, the company noticed that the majority of its total customer base are inactive, meaning they have already canceled the service.\n",
    "\n",
    "Needing to improve its results, it wants to understand the main reasons for these cancellations and the most effective actions to reduce this number."
   ]
  },
  {
   "cell_type": "code",
   "execution_count": null,
   "metadata": {},
   "outputs": [],
   "source": [
    "import pandas as pd\n",
    "import plotly.express as px\n",
    "\n",
    "table = pd.read_csv(\"cancellations.csv\") # Imports the database\n",
    "\n",
    "table = table.drop(columns=\"CustomerID\") # Removes the CustomerID column, since it does not affect the analysis\n",
    "display(table) # Displays the table"
   ]
  },
  {
   "cell_type": "code",
   "execution_count": null,
   "metadata": {},
   "outputs": [],
   "source": [
    "display(table.info()) # Displays the table data\n",
    "\n",
    "table = table.dropna() # Deletes the rows with empty values\n",
    "\n",
    "display(table.info()) # Displays the new table data"
   ]
  },
  {
   "cell_type": "code",
   "execution_count": null,
   "metadata": {},
   "outputs": [],
   "source": [
    "display(table[\"canceled\"].value_counts()) # Displays the count of people who canceled and who did not cancel\n",
    "\n",
    "display(table[\"canceled\"].value_counts(normalize=True).map(\"{:.1%}\".format)) # Displays the percentage of people who canceled and who did not cancel"
   ]
  },
  {
   "cell_type": "code",
   "execution_count": null,
   "metadata": {},
   "outputs": [],
   "source": [
    "# Generate and display a histogram using plotly express for each column, comparing it with the \"cancelled\" column\n",
    "for column in table.columns:\n",
    "    if column != \"canceled\":\n",
    "        grafico = px.histogram(table, x=column, color=\"canceled\", text_auto=True)\n",
    "        grafico.update_layout(bargap=0.2)\n",
    "        grafico.show()"
   ]
  },
  {
   "cell_type": "markdown",
   "metadata": {},
   "source": [
    "# Data Analysis\n",
    "### Monthly contract customers cancel\n",
    "Solution: offer discount on annual and quarterly plans\n",
    "### Customers who call the call center more than 4 times cancel\n",
    "Solution: create a process to solve the customer's problem in a maximum of 3 calls\n",
    "### Customers who are more than 20 days late cancel\n",
    "Solution: policy to resolve delays within 10 days (financial team)"
   ]
  },
  {
   "cell_type": "code",
   "execution_count": null,
   "metadata": {},
   "outputs": [],
   "source": [
    "# What if these people hadn't canceled?\n",
    "    # Create filters to simulate\n",
    "table = table[table[\"contract_type\"] != \"Monthly\"]\n",
    "table = table[table[\"callcenter_calls\"] <= 4]\n",
    "table = table[table[\"days_late\"] <= 20]\n",
    "\n",
    "display(table[\"canceled\"].value_counts()) # Displays the new count of people who canceled and who did not cancel\n",
    "\n",
    "display(table[\"canceled\"].value_counts(normalize=True).map(\"{:.1%}\".format)) # Displays the new percentage of people who canceled and who did not cancel"
   ]
  }
 ],
 "metadata": {
  "kernelspec": {
   "display_name": "base",
   "language": "python",
   "name": "python3"
  },
  "language_info": {
   "codemirror_mode": {
    "name": "ipython",
    "version": 3
   },
   "file_extension": ".py",
   "mimetype": "text/x-python",
   "name": "python",
   "nbconvert_exporter": "python",
   "pygments_lexer": "ipython3",
   "version": "3.12.0"
  },
  "orig_nbformat": 4
 },
 "nbformat": 4,
 "nbformat_minor": 2
}
